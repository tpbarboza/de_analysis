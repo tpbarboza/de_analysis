{
 "cells": [
  {
   "cell_type": "code",
   "execution_count": 1,
   "metadata": {},
   "outputs": [],
   "source": [
    "from sqlalchemy import create_engine"
   ]
  },
  {
   "cell_type": "code",
   "execution_count": 2,
   "metadata": {},
   "outputs": [],
   "source": [
    "host = {'local' : 'localhost',\n",
    "       'remote' : 'database-1.chcqqyli2cjd.us-east-2.rds.amazonaws.com'}\n",
    "pw = {'local' : 123123,\n",
    "     'remote': 's3nh4n3t'}\n",
    "\n",
    "use_db='remote'\n",
    "\n",
    "engine = create_engine(f'postgresql://postgres:{pw[use_db]}@{host[use_db]}:5432')\n",
    "conn = engine.connect()"
   ]
  },
  {
   "cell_type": "code",
   "execution_count": 3,
   "metadata": {},
   "outputs": [
    {
     "data": {
      "text/plain": [
       "<sqlalchemy.engine.result.ResultProxy at 0x7f79ce35f198>"
      ]
     },
     "execution_count": 3,
     "metadata": {},
     "output_type": "execute_result"
    }
   ],
   "source": [
    "# close connection to create db\n",
    "conn.execute(\"commit\")"
   ]
  },
  {
   "cell_type": "code",
   "execution_count": 4,
   "metadata": {},
   "outputs": [
    {
     "data": {
      "text/plain": [
       "<sqlalchemy.engine.result.ResultProxy at 0x7f79cdfb7f98>"
      ]
     },
     "execution_count": 4,
     "metadata": {},
     "output_type": "execute_result"
    }
   ],
   "source": [
    "try:\n",
    "    conn.execute(\"DROP DATABASE olist;\")\n",
    "except Exception as e:\n",
    "    if e.code == 'f405':\n",
    "        pass\n",
    "    else:\n",
    "        raise\n",
    "\n",
    "\n",
    "conn.execute(\"COMMIT;\")\n",
    "conn.execute(\"CREATE DATABASE olist WITH TEMPLATE = template0 ENCODING = 'UTF8' LC_COLLATE = 'en_US.utf8' LC_CTYPE = 'en_US.utf8';\")\n"
   ]
  },
  {
   "cell_type": "code",
   "execution_count": 5,
   "metadata": {},
   "outputs": [],
   "source": [
    "conn.close()\n",
    "engine = create_engine(f'postgresql://postgres:{pw[use_db]}@{host[use_db]}:5432/olist')\n",
    "conn = engine.connect()\n"
   ]
  },
  {
   "cell_type": "code",
   "execution_count": 6,
   "metadata": {},
   "outputs": [
    {
     "data": {
      "text/plain": [
       "<sqlalchemy.engine.result.ResultProxy at 0x7f79cdeaab38>"
      ]
     },
     "execution_count": 6,
     "metadata": {},
     "output_type": "execute_result"
    }
   ],
   "source": [
    "state_table = \"\"\"CREATE TABLE public.state (\n",
    "                    id bigint NOT NULL,\n",
    "                    name character varying(100)\n",
    ");\n",
    "\"\"\"\n",
    "state_seq=\"\"\"CREATE SEQUENCE public.state_id_seq\n",
    "                START WITH 1\n",
    "                INCREMENT BY 1\n",
    "                NO MINVALUE\n",
    "                NO MAXVALUE\n",
    "                CACHE 1;\n",
    "\"\"\"\n",
    "state_alters = \"\"\"ALTER TABLE ONLY public.state ALTER COLUMN id SET DEFAULT nextval('public.state_id_seq'::regclass);\n",
    "ALTER TABLE ONLY public.state ADD CONSTRAINT state_pk PRIMARY KEY (id);\n",
    "ALTER SEQUENCE public.state_id_seq OWNED BY public.state.id;\n",
    "\"\"\"\n",
    "\n",
    "conn.execute(state_table)\n",
    "conn.execute(state_seq)\n",
    "conn.execute(state_alters)"
   ]
  },
  {
   "cell_type": "code",
   "execution_count": 7,
   "metadata": {},
   "outputs": [
    {
     "data": {
      "text/plain": [
       "<sqlalchemy.engine.result.ResultProxy at 0x7f79cdeb72e8>"
      ]
     },
     "execution_count": 7,
     "metadata": {},
     "output_type": "execute_result"
    }
   ],
   "source": [
    "city_table = \"\"\"CREATE TABLE public.city (\n",
    "                    id bigint NOT NULL,\n",
    "                    name character varying(255),\n",
    "                    state_id bigint\n",
    "                );\n",
    "\"\"\"\n",
    "city_seq=\"\"\"CREATE SEQUENCE public.city_id_seq\n",
    "                START WITH 1\n",
    "                INCREMENT BY 1\n",
    "                NO MINVALUE\n",
    "                NO MAXVALUE\n",
    "                CACHE 1;\n",
    "\"\"\"\n",
    "city_alters = \"\"\"ALTER TABLE ONLY public.city ALTER COLUMN id SET DEFAULT nextval('public.city_id_seq'::regclass);\n",
    "ALTER TABLE ONLY public.city ADD CONSTRAINT city_pk PRIMARY KEY (id);\n",
    "ALTER TABLE ONLY public.city ADD CONSTRAINT city_fk FOREIGN KEY (state_id) REFERENCES public.state(id);\n",
    "ALTER SEQUENCE public.city_id_seq OWNED BY public.city.id;\n",
    "\"\"\"\n",
    "\n",
    "conn.execute(city_table)\n",
    "conn.execute(city_seq)\n",
    "conn.execute(city_alters)"
   ]
  },
  {
   "cell_type": "code",
   "execution_count": 8,
   "metadata": {},
   "outputs": [
    {
     "data": {
      "text/plain": [
       "<sqlalchemy.engine.result.ResultProxy at 0x7f79cdeb7390>"
      ]
     },
     "execution_count": 8,
     "metadata": {},
     "output_type": "execute_result"
    }
   ],
   "source": [
    "zip_table = \"\"\"CREATE TABLE public.zip (\n",
    "                    id bigint NOT NULL,\n",
    "                    prefix character varying(5),\n",
    "                    city_id bigint\n",
    ");\n",
    "\"\"\"\n",
    "zip_seq=\"\"\"CREATE SEQUENCE public.zip_id_seq\n",
    "                START WITH 1\n",
    "                INCREMENT BY 1\n",
    "                NO MINVALUE\n",
    "                NO MAXVALUE\n",
    "                CACHE 1;\n",
    "\"\"\"\n",
    "zip_alters = \"\"\"ALTER TABLE ONLY public.zip ALTER COLUMN id SET DEFAULT nextval('public.zip_id_seq'::regclass);\n",
    "ALTER TABLE ONLY public.zip ADD CONSTRAINT zip_pk PRIMARY KEY (id);\n",
    "ALTER TABLE ONLY public.zip ADD CONSTRAINT zip_fk FOREIGN KEY (city_id) REFERENCES public.city(id);\n",
    "ALTER SEQUENCE public.zip_id_seq OWNED BY public.zip.id;\n",
    "\"\"\"\n",
    "\n",
    "conn.execute(zip_table)\n",
    "conn.execute(zip_seq)\n",
    "conn.execute(zip_alters)"
   ]
  },
  {
   "cell_type": "code",
   "execution_count": 9,
   "metadata": {},
   "outputs": [
    {
     "data": {
      "text/plain": [
       "<sqlalchemy.engine.result.ResultProxy at 0x7f79cdeb75f8>"
      ]
     },
     "execution_count": 9,
     "metadata": {},
     "output_type": "execute_result"
    }
   ],
   "source": [
    "geo_table = \"\"\"CREATE TABLE public.geolocation (\n",
    "                    id bigint NOT NULL,\n",
    "                    latitude double precision,\n",
    "                    longitude double precision,\n",
    "                    zip_id bigint\n",
    "                );\n",
    "\"\"\"\n",
    "geo_seq=\"\"\"CREATE SEQUENCE public.geolocation_id_seq\n",
    "                START WITH 1\n",
    "                INCREMENT BY 1\n",
    "                NO MINVALUE\n",
    "                NO MAXVALUE\n",
    "                CACHE 1;\n",
    "\"\"\"\n",
    "geo_alters = \"\"\"ALTER TABLE ONLY public.geolocation ALTER COLUMN id SET DEFAULT nextval('public.geolocation_id_seq'::regclass);\n",
    "ALTER TABLE ONLY public.geolocation ADD CONSTRAINT geolocation_pk PRIMARY KEY (id);\n",
    "ALTER TABLE ONLY public.geolocation ADD CONSTRAINT geolocation_fk FOREIGN KEY (zip_id) REFERENCES public.zip(id);\n",
    "ALTER SEQUENCE public.geolocation_id_seq OWNED BY public.geolocation.id;\n",
    "\"\"\"\n",
    "\n",
    "conn.execute(geo_table)\n",
    "conn.execute(geo_seq)\n",
    "conn.execute(geo_alters)"
   ]
  },
  {
   "cell_type": "code",
   "execution_count": 10,
   "metadata": {},
   "outputs": [
    {
     "data": {
      "text/plain": [
       "<sqlalchemy.engine.result.ResultProxy at 0x7f79cdeb7860>"
      ]
     },
     "execution_count": 10,
     "metadata": {},
     "output_type": "execute_result"
    }
   ],
   "source": [
    "seller_table = \"\"\"CREATE TABLE public.seller (\n",
    "                id text NOT NULL,\n",
    "                zip_id bigint\n",
    "            );\n",
    "\"\"\"\n",
    "seller_seq=\"\"\"CREATE SEQUENCE public.seller_id_seq\n",
    "                START WITH 1\n",
    "                INCREMENT BY 1\n",
    "                NO MINVALUE\n",
    "                NO MAXVALUE\n",
    "                CACHE 1;\n",
    "\"\"\"\n",
    "seller_alters = \"\"\"ALTER TABLE ONLY public.seller ALTER COLUMN id SET DEFAULT ('seller'::text || nextval('public.seller_id_seq'::regclass));\n",
    "ALTER TABLE ONLY public.seller ADD CONSTRAINT seller_pk PRIMARY KEY (id);\n",
    "ALTER TABLE ONLY public.seller ADD CONSTRAINT seller_fk FOREIGN KEY (zip_id) REFERENCES public.zip(id);\n",
    "ALTER SEQUENCE public.seller_id_seq OWNED BY public.seller.id;\n",
    "\"\"\"\n",
    "\n",
    "conn.execute(seller_table)\n",
    "conn.execute(seller_seq)\n",
    "conn.execute(seller_alters)"
   ]
  },
  {
   "cell_type": "code",
   "execution_count": 11,
   "metadata": {},
   "outputs": [
    {
     "data": {
      "text/plain": [
       "<sqlalchemy.engine.result.ResultProxy at 0x7f79cdeb7ac8>"
      ]
     },
     "execution_count": 11,
     "metadata": {},
     "output_type": "execute_result"
    }
   ],
   "source": [
    "customer_table = \"\"\"CREATE TABLE public.customer (\n",
    "                        id text NOT NULL,\n",
    "                        unique_id character varying(100),\n",
    "                        zip_id bigint\n",
    ");\n",
    "\"\"\"\n",
    "customer_seq=\"\"\"CREATE SEQUENCE public.customer_id_seq\n",
    "                    START WITH 1\n",
    "                    INCREMENT BY 1\n",
    "                    NO MINVALUE\n",
    "                    NO MAXVALUE\n",
    "                    CACHE 1;\n",
    "\"\"\"\n",
    "customer_alters = \"\"\"ALTER TABLE ONLY public.customer ALTER COLUMN id SET DEFAULT ('cust'::text || nextval('public.customer_id_seq'::regclass));\n",
    "ALTER TABLE ONLY public.customer ADD CONSTRAINT customer_pk PRIMARY KEY (id);\n",
    "ALTER TABLE ONLY public.customer ADD CONSTRAINT customer_fk FOREIGN KEY (zip_id) REFERENCES public.zip(id);\n",
    "ALTER SEQUENCE public.customer_id_seq OWNED BY public.customer.id;\n",
    "\"\"\"\n",
    "\n",
    "conn.execute(customer_table)\n",
    "conn.execute(customer_seq)\n",
    "conn.execute(customer_alters)"
   ]
  },
  {
   "cell_type": "code",
   "execution_count": 12,
   "metadata": {},
   "outputs": [
    {
     "data": {
      "text/plain": [
       "<sqlalchemy.engine.result.ResultProxy at 0x7f79cdeb7f28>"
      ]
     },
     "execution_count": 12,
     "metadata": {},
     "output_type": "execute_result"
    }
   ],
   "source": [
    "cat_table = \"\"\"CREATE TABLE public.category (\n",
    "                id bigint NOT NULL,\n",
    "                name character varying(255)\n",
    "            );\n",
    "\"\"\"\n",
    "cat_seq=\"\"\"CREATE SEQUENCE public.category_id_seq\n",
    "                START WITH 1\n",
    "                INCREMENT BY 1\n",
    "                NO MINVALUE\n",
    "                NO MAXVALUE\n",
    "                CACHE 1;\n",
    "\"\"\"\n",
    "cat_alters = \"\"\"ALTER TABLE ONLY public.category ALTER COLUMN id SET DEFAULT nextval('public.category_id_seq'::regclass);\n",
    "ALTER TABLE ONLY public.category ADD CONSTRAINT category_pk PRIMARY KEY (id);\n",
    "ALTER SEQUENCE public.category_id_seq OWNED BY public.category.id;\n",
    "\"\"\"\n",
    "\n",
    "conn.execute(cat_table)\n",
    "conn.execute(cat_seq)\n",
    "conn.execute(cat_alters)"
   ]
  },
  {
   "cell_type": "code",
   "execution_count": 13,
   "metadata": {},
   "outputs": [
    {
     "data": {
      "text/plain": [
       "<sqlalchemy.engine.result.ResultProxy at 0x7f79cdec5320>"
      ]
     },
     "execution_count": 13,
     "metadata": {},
     "output_type": "execute_result"
    }
   ],
   "source": [
    "lang_table = \"\"\"CREATE TABLE public.language (\n",
    "                    id bigint NOT NULL,\n",
    "                    code character varying(5)\n",
    "                );\n",
    "\"\"\"\n",
    "lang_seq=\"\"\"CREATE SEQUENCE public.language_id_seq\n",
    "                START WITH 1\n",
    "                INCREMENT BY 1\n",
    "                NO MINVALUE\n",
    "                NO MAXVALUE\n",
    "                CACHE 1;\n",
    "\"\"\"\n",
    "lang_alters = \"\"\"ALTER TABLE ONLY public.language ALTER COLUMN id SET DEFAULT nextval('public.language_id_seq'::regclass);\n",
    "ALTER TABLE ONLY public.language ADD CONSTRAINT language_pk PRIMARY KEY (id);\n",
    "ALTER SEQUENCE public.language_id_seq OWNED BY public.language.id;\n",
    "\"\"\"\n",
    "\n",
    "conn.execute(lang_table)\n",
    "conn.execute(lang_seq)\n",
    "conn.execute(lang_alters)"
   ]
  },
  {
   "cell_type": "code",
   "execution_count": 14,
   "metadata": {},
   "outputs": [
    {
     "data": {
      "text/plain": [
       "<sqlalchemy.engine.result.ResultProxy at 0x7f79cdec5710>"
      ]
     },
     "execution_count": 14,
     "metadata": {},
     "output_type": "execute_result"
    }
   ],
   "source": [
    "i18n_table = \"\"\"CREATE TABLE public.internationalization (\n",
    "                    id bigint NOT NULL,\n",
    "                    reference_table character varying(100),\n",
    "                    reference_id bigint,\n",
    "                    language_id bigint,\n",
    "                    text character varying(255)\n",
    "                );\n",
    "\"\"\"\n",
    "i18n_seq=\"\"\"CREATE SEQUENCE public.internationalization_id_seq\n",
    "                START WITH 1\n",
    "                INCREMENT BY 1\n",
    "                NO MINVALUE\n",
    "                NO MAXVALUE\n",
    "                CACHE 1;\n",
    "\"\"\"\n",
    "i18n_alters = \"\"\"ALTER TABLE ONLY public.internationalization ALTER COLUMN id SET DEFAULT nextval('public.internationalization_id_seq'::regclass);\n",
    "ALTER TABLE ONLY public.internationalization ADD CONSTRAINT internationalization_pk PRIMARY KEY (id);\n",
    "ALTER TABLE ONLY public.internationalization ADD CONSTRAINT internationalization_fk FOREIGN KEY (language_id) REFERENCES public.language(id);\n",
    "ALTER SEQUENCE public.internationalization_id_seq OWNED BY public.internationalization.id;\n",
    "\"\"\"\n",
    "\n",
    "conn.execute(i18n_table)\n",
    "conn.execute(i18n_seq)\n",
    "conn.execute(i18n_alters)"
   ]
  },
  {
   "cell_type": "code",
   "execution_count": 15,
   "metadata": {},
   "outputs": [
    {
     "data": {
      "text/plain": [
       "<sqlalchemy.engine.result.ResultProxy at 0x7f79cdec5a58>"
      ]
     },
     "execution_count": 15,
     "metadata": {},
     "output_type": "execute_result"
    }
   ],
   "source": [
    "prod_table = \"\"\"CREATE TABLE public.product (\n",
    "                    id text NOT NULL,\n",
    "                    category_id bigint,\n",
    "                    name_length double precision,\n",
    "                    description_length double precision,\n",
    "                    photos_qty integer,\n",
    "                    weight_g double precision,\n",
    "                    length_cm double precision,\n",
    "                    height_cm double precision,\n",
    "                    width_cm double precision                    \n",
    "                );\n",
    "\"\"\"\n",
    "prod_seq=\"\"\"CREATE SEQUENCE public.product_id_seq\n",
    "                START WITH 1\n",
    "                INCREMENT BY 1\n",
    "                NO MINVALUE\n",
    "                NO MAXVALUE\n",
    "                CACHE 1;\n",
    "\"\"\"\n",
    "prod_alters = \"\"\"ALTER TABLE ONLY public.product ALTER COLUMN id SET DEFAULT ('prod'::text || nextval('public.product_id_seq'::regclass));\n",
    "ALTER TABLE ONLY public.product ADD CONSTRAINT product_pk PRIMARY KEY (id);\n",
    "ALTER TABLE ONLY public.product ADD CONSTRAINT product_fk FOREIGN KEY (category_id) REFERENCES public.category(id);\n",
    "ALTER SEQUENCE public.product_id_seq OWNED BY public.product.id;\n",
    "\"\"\"\n",
    "\n",
    "conn.execute(prod_table)\n",
    "conn.execute(prod_seq)\n",
    "conn.execute(prod_alters)"
   ]
  },
  {
   "cell_type": "code",
   "execution_count": 16,
   "metadata": {},
   "outputs": [
    {
     "data": {
      "text/plain": [
       "<sqlalchemy.engine.result.ResultProxy at 0x7f79cdec5e48>"
      ]
     },
     "execution_count": 16,
     "metadata": {},
     "output_type": "execute_result"
    }
   ],
   "source": [
    "sales_order_status_table = \"\"\"CREATE TABLE public.sales_order_status (\n",
    "                            id bigint NOT NULL,\n",
    "                            description character varying(100)\n",
    "                        );\n",
    "\"\"\"\n",
    "sales_order_status_seq=\"\"\"CREATE SEQUENCE public.sales_order_status_id_seq\n",
    "                        START WITH 1\n",
    "                        INCREMENT BY 1\n",
    "                        NO MINVALUE\n",
    "                        NO MAXVALUE\n",
    "                        CACHE 1;\n",
    "\"\"\"\n",
    "sales_order_status_alters = \"\"\"ALTER TABLE ONLY public.sales_order_status ALTER COLUMN id SET DEFAULT nextval('public.sales_order_status_id_seq'::regclass);\n",
    "ALTER TABLE ONLY public.sales_order_status ADD CONSTRAINT sales_order_status_pk PRIMARY KEY (id);\n",
    "ALTER SEQUENCE public.sales_order_status_id_seq OWNED BY public.sales_order_status.id;\n",
    "\"\"\"\n",
    "\n",
    "conn.execute(sales_order_status_table)\n",
    "conn.execute(sales_order_status_seq)\n",
    "conn.execute(sales_order_status_alters)"
   ]
  },
  {
   "cell_type": "code",
   "execution_count": 17,
   "metadata": {},
   "outputs": [
    {
     "data": {
      "text/plain": [
       "<sqlalchemy.engine.result.ResultProxy at 0x7f79cdecf3c8>"
      ]
     },
     "execution_count": 17,
     "metadata": {},
     "output_type": "execute_result"
    }
   ],
   "source": [
    "sales_order_table = \"\"\"CREATE TABLE public.sales_order (\n",
    "                            id text NOT NULL,\n",
    "                            customer_id text,\n",
    "                            status_id bigint,\n",
    "                            purchase_timestamp date,\n",
    "                            approved_at date,\n",
    "                            delivered_carrier_date date,\n",
    "                            delivered_customer_date date,\n",
    "                            estimated_delivery_date date\n",
    "                        );\n",
    "\"\"\"\n",
    "sales_order_seq=\"\"\"CREATE SEQUENCE public.sales_order_id_seq\n",
    "                        START WITH 1\n",
    "                        INCREMENT BY 1\n",
    "                        NO MINVALUE\n",
    "                        NO MAXVALUE\n",
    "                        CACHE 1;\n",
    "\"\"\"\n",
    "sales_order_alters = \"\"\"ALTER TABLE ONLY public.sales_order ALTER COLUMN id SET DEFAULT ('order'::text || nextval('public.sales_order_id_seq'::regclass));\n",
    "ALTER TABLE ONLY public.sales_order ADD CONSTRAINT order_pk PRIMARY KEY (id);\n",
    "ALTER TABLE ONLY public.sales_order ADD CONSTRAINT order_fk FOREIGN KEY (status_id) REFERENCES public.sales_order_status(id);\n",
    "ALTER TABLE ONLY public.sales_order ADD CONSTRAINT order_fk1 FOREIGN KEY (customer_id) REFERENCES public.customer(id);\n",
    "ALTER SEQUENCE public.sales_order_id_seq OWNED BY public.sales_order.id;\n",
    "\"\"\"\n",
    "\n",
    "conn.execute(sales_order_table)\n",
    "conn.execute(sales_order_seq)\n",
    "conn.execute(sales_order_alters)"
   ]
  },
  {
   "cell_type": "code",
   "execution_count": 18,
   "metadata": {},
   "outputs": [
    {
     "data": {
      "text/plain": [
       "<sqlalchemy.engine.result.ResultProxy at 0x7f79cdecf780>"
      ]
     },
     "execution_count": 18,
     "metadata": {},
     "output_type": "execute_result"
    }
   ],
   "source": [
    "sales_order_item_table = \"\"\"CREATE TABLE public.sales_order_item (\n",
    "                            id bigint NOT NULL,\n",
    "                            sales_order_id text,\n",
    "                            item_id bigint,\n",
    "                            product_id text,\n",
    "                            seller_id text,\n",
    "                            shipping_limit_date date,\n",
    "                            price double precision,\n",
    "                            freight_value double precision\n",
    "                        );\n",
    "\"\"\"\n",
    "sales_order_item_seq=\"\"\"CREATE SEQUENCE public.sales_order_item_id_seq\n",
    "                    START WITH 1\n",
    "                    INCREMENT BY 1\n",
    "                    NO MINVALUE\n",
    "                    NO MAXVALUE\n",
    "                    CACHE 1;\n",
    "\"\"\"\n",
    "sales_order_item_alters = \"\"\"ALTER TABLE ONLY public.sales_order_item ALTER COLUMN id SET DEFAULT nextval('public.sales_order_item_id_seq'::regclass);\n",
    "ALTER TABLE ONLY public.sales_order_item ADD CONSTRAINT sales_order_item_pk PRIMARY KEY (id);\n",
    "ALTER TABLE ONLY public.sales_order_item ADD CONSTRAINT sales_order_item_fk FOREIGN KEY (sales_order_id) REFERENCES public.sales_order(id);\n",
    "ALTER TABLE ONLY public.sales_order_item ADD CONSTRAINT sales_order_item_fk_1 FOREIGN KEY (product_id) REFERENCES public.product(id);\n",
    "ALTER TABLE ONLY public.sales_order_item ADD CONSTRAINT sales_order_item_fk_2 FOREIGN KEY (seller_id) REFERENCES public.seller(id);\n",
    "ALTER SEQUENCE public.sales_order_item_id_seq OWNED BY public.sales_order_item.id;\n",
    "\"\"\"\n",
    "\n",
    "conn.execute(sales_order_item_table)\n",
    "conn.execute(sales_order_item_seq)\n",
    "conn.execute(sales_order_item_alters)"
   ]
  },
  {
   "cell_type": "code",
   "execution_count": 19,
   "metadata": {},
   "outputs": [
    {
     "data": {
      "text/plain": [
       "<sqlalchemy.engine.result.ResultProxy at 0x7f79cdecfc18>"
      ]
     },
     "execution_count": 19,
     "metadata": {},
     "output_type": "execute_result"
    }
   ],
   "source": [
    "paymt_type_table = \"\"\"CREATE TABLE public.payment_type (\n",
    "                        id bigint NOT NULL,\n",
    "                        description character varying(100)\n",
    "                    );\n",
    "\"\"\"\n",
    "paymt_type_seq=\"\"\"CREATE SEQUENCE public.payment_type_id_seq\n",
    "                        START WITH 1\n",
    "                        INCREMENT BY 1\n",
    "                        NO MINVALUE\n",
    "                        NO MAXVALUE\n",
    "                        CACHE 1;\n",
    "\"\"\"\n",
    "paymt_type_alters = \"\"\"ALTER TABLE ONLY public.payment_type ALTER COLUMN id SET DEFAULT nextval('public.payment_type_id_seq'::regclass);\n",
    "ALTER TABLE ONLY public.payment_type ADD CONSTRAINT payment_type_pk PRIMARY KEY (id);\n",
    "ALTER SEQUENCE public.payment_type_id_seq OWNED BY public.payment_type.id;\n",
    "\"\"\"\n",
    "\n",
    "conn.execute(paymt_type_table)\n",
    "conn.execute(paymt_type_seq)\n",
    "conn.execute(paymt_type_alters)"
   ]
  },
  {
   "cell_type": "code",
   "execution_count": 20,
   "metadata": {},
   "outputs": [
    {
     "data": {
      "text/plain": [
       "<sqlalchemy.engine.result.ResultProxy at 0x7f79cdecfe48>"
      ]
     },
     "execution_count": 20,
     "metadata": {},
     "output_type": "execute_result"
    }
   ],
   "source": [
    "sales_order_paymt_table = \"\"\"CREATE TABLE public.sales_order_payment (\n",
    "                            id bigint NOT NULL,\n",
    "                            sales_order_id text,\n",
    "                            payment_type_id bigint,\n",
    "                            sequential bigint,\n",
    "                            installments integer,\n",
    "                            value double precision\n",
    "                        );\n",
    "\"\"\"\n",
    "sales_order_paymt_seq=\"\"\"CREATE SEQUENCE public.sales_order_payment_id_seq\n",
    "                        START WITH 1\n",
    "                        INCREMENT BY 1\n",
    "                        NO MINVALUE\n",
    "                        NO MAXVALUE\n",
    "                        CACHE 1;\n",
    "\"\"\"\n",
    "sales_order_paymt_alters = \"\"\"ALTER TABLE ONLY public.sales_order_payment ALTER COLUMN id SET DEFAULT nextval('public.sales_order_payment_id_seq'::regclass);\n",
    "ALTER TABLE ONLY public.sales_order_payment ADD CONSTRAINT sales_order_payment_pk PRIMARY KEY (id);\n",
    "ALTER TABLE ONLY public.sales_order_payment ADD CONSTRAINT sales_order_payment_fk FOREIGN KEY (payment_type_id) REFERENCES public.payment_type(id);\n",
    "ALTER TABLE ONLY public.sales_order_payment ADD CONSTRAINT sales_order_payment_fk1 FOREIGN KEY (sales_order_id) REFERENCES public.sales_order(id);\n",
    "ALTER SEQUENCE public.sales_order_payment_id_seq OWNED BY public.sales_order_payment.id;\n",
    "\"\"\"\n",
    "\n",
    "conn.execute(sales_order_paymt_table)\n",
    "conn.execute(sales_order_paymt_seq)\n",
    "conn.execute(sales_order_paymt_alters)"
   ]
  },
  {
   "cell_type": "code",
   "execution_count": 21,
   "metadata": {},
   "outputs": [
    {
     "data": {
      "text/plain": [
       "<sqlalchemy.engine.result.ResultProxy at 0x7f79cded5278>"
      ]
     },
     "execution_count": 21,
     "metadata": {},
     "output_type": "execute_result"
    }
   ],
   "source": [
    "sales_order_review_table = \"\"\"CREATE TABLE public.sales_order_review (\n",
    "                            id text NOT NULL,\n",
    "                            review_id text,\n",
    "                            sales_order_id text,\n",
    "                            score integer,\n",
    "                            comment_title character varying(500),\n",
    "                            comment_message character varying(5000),\n",
    "                            create_date date,\n",
    "                            answer_timestamp date\n",
    "                        );\n",
    "\"\"\"\n",
    "sales_order_review_seq=\"\"\"CREATE SEQUENCE public.sales_order_review_id_seq\n",
    "                        START WITH 1\n",
    "                        INCREMENT BY 1\n",
    "                        NO MINVALUE\n",
    "                        NO MAXVALUE\n",
    "                        CACHE 1;\n",
    "\"\"\"\n",
    "sales_order_review_alters = \"\"\"ALTER TABLE ONLY public.sales_order_review ALTER COLUMN id SET DEFAULT (nextval('public.sales_order_review_id_seq'::regclass));\n",
    "ALTER TABLE ONLY public.sales_order_review ADD CONSTRAINT sales_order_review_pk PRIMARY KEY (id);\n",
    "ALTER TABLE ONLY public.sales_order_review ADD CONSTRAINT sales_order_review_fk FOREIGN KEY (sales_order_id) REFERENCES public.sales_order(id);\n",
    "ALTER SEQUENCE public.sales_order_review_id_seq OWNED BY public.sales_order_review.id;\n",
    "\"\"\"\n",
    "\n",
    "conn.execute(sales_order_review_table)\n",
    "conn.execute(sales_order_review_seq)\n",
    "conn.execute(sales_order_review_alters)"
   ]
  },
  {
   "cell_type": "code",
   "execution_count": 22,
   "metadata": {},
   "outputs": [],
   "source": [
    "conn.close()\n",
    "engine.dispose()"
   ]
  }
 ],
 "metadata": {
  "kernelspec": {
   "display_name": "Python 3",
   "language": "python",
   "name": "python3"
  },
  "language_info": {
   "codemirror_mode": {
    "name": "ipython",
    "version": 3
   },
   "file_extension": ".py",
   "mimetype": "text/x-python",
   "name": "python",
   "nbconvert_exporter": "python",
   "pygments_lexer": "ipython3",
   "version": "3.7.0"
  }
 },
 "nbformat": 4,
 "nbformat_minor": 2
}
